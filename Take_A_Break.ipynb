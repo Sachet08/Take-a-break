{
  "nbformat": 4,
  "nbformat_minor": 0,
  "metadata": {
    "colab": {
      "name": "Take_A_Break.ipynb",
      "provenance": []
    },
    "kernelspec": {
      "name": "python3",
      "display_name": "Python 3"
    },
    "language_info": {
      "name": "python"
    }
  },
  "cells": [
    {
      "cell_type": "markdown",
      "metadata": {
        "id": "QoeqiRfaSX-U"
      },
      "source": [
        "# **Take A Break**\n",
        "A program that schedules breaks throughout the day to remind the user to take a break from time to time.\n",
        "\n",
        "**OUTPUT**:\n",
        "After every 2 hrs the program opens the browser to play your favorite song.  "
      ]
    },
    {
      "cell_type": "markdown",
      "metadata": {
        "id": "J1dKsLZvgCJl"
      },
      "source": [
        "# Steps\n",
        "\n",
        "- As we want to keep the break at 2 hrs so the program will need to keep track of time and do nothing during that time \n",
        "\n",
        "- Secondly open up a browser to play the music\n",
        "\n",
        "- As we want to do this multiple times a day so we wil put the above 2 steps in a loop.\n",
        "\n",
        "- Step 1 : Opening the browser using python\n",
        "- Step 2 : Making our program wait for a certian period of time\n",
        "- Step 3 : Next thing to do is to have a loop so that the user takes a break of 2 hours         "
      ]
    },
    {
      "cell_type": "markdown",
      "metadata": {
        "id": "ZZ0JcThOr1hn"
      },
      "source": [
        "#**Code**"
      ]
    },
    {
      "cell_type": "markdown",
      "metadata": {
        "id": "POIvQfmosC2Y"
      },
      "source": [
        "Opening the browser using Python "
      ]
    },
    {
      "cell_type": "code",
      "metadata": {
        "colab": {
          "base_uri": "https://localhost:8080/"
        },
        "id": "2C48C3oSsByO",
        "outputId": "88e5fbca-7593-408b-dbb2-40e8c89a25a9"
      },
      "source": [
        "import webbrowser\n",
        "webbrowser.open('http://google.co.kr', new=2)"
      ],
      "execution_count": 3,
      "outputs": [
        {
          "output_type": "execute_result",
          "data": {
            "text/plain": [
              "False"
            ]
          },
          "metadata": {
            "tags": []
          },
          "execution_count": 3
        }
      ]
    },
    {
      "cell_type": "markdown",
      "metadata": {
        "id": "65Y0_2QGtBun"
      },
      "source": [
        "Making program wait for certain period of time"
      ]
    },
    {
      "cell_type": "code",
      "metadata": {
        "colab": {
          "base_uri": "https://localhost:8080/"
        },
        "id": "67rhRnvWtKOr",
        "outputId": "8ed9c974-55d5-4c49-850e-7feb5c241ecf"
      },
      "source": [
        "import time\n",
        "import webbrowser\n",
        "\n",
        "time.sleep(10)\n",
        "webbrowser.open('http://google.co.kr', new=2)"
      ],
      "execution_count": 5,
      "outputs": [
        {
          "output_type": "execute_result",
          "data": {
            "text/plain": [
              "False"
            ]
          },
          "metadata": {
            "tags": []
          },
          "execution_count": 5
        }
      ]
    },
    {
      "cell_type": "markdown",
      "metadata": {
        "id": "LV0rkl2Et1v1"
      },
      "source": [
        "Next thing is to have a loop so that the user takes a break after every 2hrs"
      ]
    },
    {
      "cell_type": "code",
      "metadata": {
        "id": "VhkR52sjvM_m"
      },
      "source": [
        "import time\n",
        "import webbrowser\n",
        "\n",
        "breaks = 3\n",
        "\n",
        "for i in range(breaks):\n",
        "  time.sleep(2*60*60)\n",
        "  webbrowser.open('http://google.co.kr', new=2)"
      ],
      "execution_count": null,
      "outputs": []
    }
  ]
}
